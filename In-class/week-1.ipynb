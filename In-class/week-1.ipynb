{
 "cells": [
  {
   "cell_type": "code",
   "execution_count": 2,
   "metadata": {},
   "outputs": [
    {
     "name": "stdout",
     "output_type": "stream",
     "text": [
      "[1 2 3 4 5]\n",
      "1\n",
      "[1 2]\n",
      "0      Alice\n",
      "1        Bob\n",
      "2    Charlie\n",
      "Name: Name, dtype: object\n"
     ]
    }
   ],
   "source": [
    "import numpy as np\n",
    "import pandas as pd\n",
    "\n",
    "# Numpy\n",
    "data = np.array([1, 2, 3, 4, 5])\n",
    "\n",
    "print(data)\n",
    "print(data[0])\n",
    "print(data[0:2])\n",
    "\n",
    "# Pandas\n",
    "\n",
    "dataTwo = [     {\"Name\": \"Alice\", \"Age\": 30, \"City\": \"New York\"},     {\"Name\": \"Bob\", \"Age\": 25, \"City\": \"Paris\"},     {\"Name\": \"Charlie\", \"Age\": 35, \"City\": \"London\"} ] \n",
    "# Accessing data requires looping or list comprehensionsprint([person[\"Name\"] for person in data])  # ['Alice', 'Bob', 'Charlie']\n",
    "\n",
    "\n",
    " \n",
    "dataTwo = pd.DataFrame({\n",
    "    \"Name\": [\"Alice\", \"Bob\", \"Charlie\"],\n",
    "    \"Age\": [30, 25, 35],\n",
    "    \"City\": [\"New York\", \"Paris\", \"London\"]\n",
    "})\n",
    " \n",
    "# Viewing data is straightforward\n",
    "print(dataTwo[\"Name\"])\n",
    "# 0      Alice\n",
    "# 1        Bob\n",
    "# 2    Charlie\n",
    "# Name: Name, dtype: object"
   ]
  }
 ],
 "metadata": {
  "kernelspec": {
   "display_name": "Python 3",
   "language": "python",
   "name": "python3"
  },
  "language_info": {
   "codemirror_mode": {
    "name": "ipython",
    "version": 3
   },
   "file_extension": ".py",
   "mimetype": "text/x-python",
   "name": "python",
   "nbconvert_exporter": "python",
   "pygments_lexer": "ipython3",
   "version": "3.12.2"
  }
 },
 "nbformat": 4,
 "nbformat_minor": 2
}
