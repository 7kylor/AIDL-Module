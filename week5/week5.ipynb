{
 "cells": [
  {
   "cell_type": "code",
   "execution_count": 1,
   "metadata": {},
   "outputs": [
    {
     "name": "stdout",
     "output_type": "stream",
     "text": [
      "(398, 30)\n",
      "(398,)\n",
      "(171, 30)\n",
      "(171,)\n",
      "Accuracy: 0.9590643274853801\n",
      "[[103   5]\n",
      " [  2  61]]\n",
      "TP = 61\n",
      "TN = 103\n",
      "FP = 5\n",
      "FN = 2\n"
     ]
    },
    {
     "name": "stderr",
     "output_type": "stream",
     "text": [
      "/opt/miniconda3/lib/python3.12/site-packages/sklearn/linear_model/_logistic.py:469: ConvergenceWarning: lbfgs failed to converge (status=1):\n",
      "STOP: TOTAL NO. of ITERATIONS REACHED LIMIT.\n",
      "\n",
      "Increase the number of iterations (max_iter) or scale the data as shown in:\n",
      "    https://scikit-learn.org/stable/modules/preprocessing.html\n",
      "Please also refer to the documentation for alternative solver options:\n",
      "    https://scikit-learn.org/stable/modules/linear_model.html#logistic-regression\n",
      "  n_iter_i = _check_optimize_result(\n"
     ]
    },
    {
     "name": "stdout",
     "output_type": "stream",
     "text": [
      "Specificity =  0.9537037037037037\n",
      "Sensitivity =  0.9682539682539683\n",
      "Precision: [0.98095238 0.92424242]\n",
      "Recall: [0.9537037  0.96825397]\n",
      "F-score: [0.96713615 0.94573643]\n",
      "              precision    recall  f1-score   support\n",
      "\n",
      "           0       0.98      0.95      0.97       108\n",
      "           1       0.92      0.97      0.95        63\n",
      "\n",
      "    accuracy                           0.96       171\n",
      "   macro avg       0.95      0.96      0.96       171\n",
      "weighted avg       0.96      0.96      0.96       171\n",
      "\n"
     ]
    },
    {
     "data": {
      "image/png": "[encoded data removed]",
      "text/plain": [
       "<Figure size 640x480 with 2 Axes>"
      ]
     },
     "metadata": {},
     "output_type": "display_data"
    }
   ],
   "source": [
    "#Import libraries\n",
    "import pandas as pd\n",
    "\n",
    "#Read the csv file to a dataframe\n",
    "df = pd.read_csv('cancer.csv')\n",
    "\n",
    "#Show the dataframe\n",
    "df.head(5)\n",
    "\n",
    "#Separate the features \n",
    "features = df.drop('diagnosis', axis = 'columns')\n",
    "\n",
    "#Separate the target\n",
    "target = df['diagnosis']\n",
    "\n",
    "#Assigning to conventional variables, the features and target\n",
    "X_train = features\n",
    "Y_train = target\n",
    "\n",
    "#Split the datset into training and testing\n",
    "from sklearn.model_selection import train_test_split\n",
    "X_train, X_test, Y_train, Y_test = train_test_split(features, target, test_size=0.3, random_state=0)\n",
    "#random_state = 0; we get the same train and test sets across different executions\n",
    "\n",
    "#Print the dimension of train and test data\n",
    "print(X_train.shape)\n",
    "print(Y_train.shape)\n",
    "print(X_test.shape)\n",
    "print(Y_test.shape)\n",
    "\n",
    "## Logic Regression\n",
    "from sklearn.linear_model import LogisticRegression\n",
    "model = LogisticRegression()\n",
    "\n",
    "# Train Logistic Regression model\n",
    "model.fit(X_train,Y_train)\n",
    "\n",
    "#Predict the response for test dataset\n",
    "Y_pred = model.predict(X_test)\n",
    "\n",
    "# Model Accuracy, irrespectove of benign or malignant?\n",
    "from sklearn import metrics\n",
    "print(\"Accuracy:\",metrics.accuracy_score(Y_test, Y_pred))\n",
    "\n",
    "#Get the confusion matrix\n",
    "from sklearn.metrics import confusion_matrix\n",
    "cm = confusion_matrix(Y_test, Y_pred)\n",
    "print(cm)\n",
    "\n",
    "TN = cm[0][0]\n",
    "FN = cm[1][0]\n",
    "FP = cm[0][1]\n",
    "TP = cm[1][1]\n",
    "\n",
    "print ('TP =', TP)\n",
    "print ('TN =', TN)\n",
    "print ('FP =', FP)\n",
    "print ('FN =', FN)\n",
    "\n",
    "#print confusion matrix plot\n",
    "from sklearn.metrics import confusion_matrix, ConfusionMatrixDisplay\n",
    "cm = confusion_matrix(Y_test, Y_pred, labels=model.classes_)\n",
    "disp = ConfusionMatrixDisplay(confusion_matrix=cm, display_labels=model.classes_)\n",
    "disp.plot()\n",
    "\n",
    "#print specificity\n",
    "print('Specificity = ', TN / (TN + FP))\n",
    "\n",
    "#Print sensitivity\n",
    "print('Sensitivity = ', TP / (TP + FN))\n",
    "\n",
    "# print Precision\n",
    "from sklearn import metrics\n",
    "print(\"Precision:\",metrics.precision_score(Y_test, Y_pred, average = None))\n",
    "\n",
    "#print Recall\n",
    "from sklearn import metrics\n",
    "print(\"Recall:\",metrics.recall_score(Y_test, Y_pred, average = None))\n",
    "\n",
    "# print f1 score\n",
    "from sklearn import metrics\n",
    "print(\"F-score:\",metrics.f1_score(Y_test, Y_pred, average = None))\n",
    "\n",
    "#print classification report \n",
    "from sklearn.metrics import classification_report\n",
    "print(classification_report(Y_test, Y_pred))"
   ]
  }
 ],
 "metadata": {
  "kernelspec": {
   "display_name": "base",
   "language": "python",
   "name": "python3"
  },
  "language_info": {
   "codemirror_mode": {
    "name": "ipython",
    "version": 3
   },
   "file_extension": ".py",
   "mimetype": "text/x-python",
   "name": "python",
   "nbconvert_exporter": "python",
   "pygments_lexer": "ipython3",
   "version": "3.12.2"
  }
 },
 "nbformat": 4,
 "nbformat_minor": 2
}
